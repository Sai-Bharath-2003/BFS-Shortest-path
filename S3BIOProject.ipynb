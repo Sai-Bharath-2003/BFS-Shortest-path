{
  "nbformat": 4,
  "nbformat_minor": 0,
  "metadata": {
    "colab": {
      "name": "S3BIOProject.ipynb",
      "provenance": [],
      "collapsed_sections": [],
      "mount_file_id": "19Sr7RgALF_jR88y45IPmJdfnSLLJ7ov2",
      "authorship_tag": "ABX9TyNaQtJ2sYVMkVT9vbID/KNm",
      "include_colab_link": true
    },
    "kernelspec": {
      "name": "python3",
      "display_name": "Python 3"
    },
    "language_info": {
      "name": "python"
    }
  },
  "cells": [
    {
      "cell_type": "markdown",
      "metadata": {
        "id": "view-in-github",
        "colab_type": "text"
      },
      "source": [
        "<a href=\"https://colab.research.google.com/github/bharath95539/BFS-Shortest-path/blob/main/S3BIOProject.ipynb\" target=\"_parent\"><img src=\"https://colab.research.google.com/assets/colab-badge.svg\" alt=\"Open In Colab\"/></a>"
      ]
    },
    {
      "cell_type": "code",
      "execution_count": 3,
      "metadata": {
        "colab": {
          "base_uri": "https://localhost:8080/"
        },
        "id": "rnXNSXOHUPhO",
        "outputId": "d29bb314-c687-4b9c-f992-cb23210a3d08"
      },
      "outputs": [
        {
          "output_type": "stream",
          "name": "stdout",
          "text": [
            "0 \n",
            "-1 \n",
            "2 \n",
            "1 \n",
            "3 \n",
            "2 \n"
          ]
        }
      ],
      "source": [
        "data = \"/content/drive/MyDrive/rosalind_bfs - Copy.txt\"\n",
        "f = open(data, \"r\")\n",
        "vertice, edge = map(int, f.readline().strip().split(\" \"))\n",
        "graph = {i+1:[] for i in range(vertice)}\n",
        "for line in f:\n",
        "    l = list(map(int, line.strip().split(\" \")))\n",
        "    graph[l[0]].append(l[1])\n",
        "f.close()\n",
        "\n",
        "def BFS(start_vertice, vertice, graph):\n",
        "    quene, order = [], [] # quene stores the data that needs to be traversed, \n",
        "    #and order stores the traversed path\n",
        "    distance = {i+1:0 for i in range(vertice)} \n",
        "    quene.append(start_vertice)\n",
        "    order.append(start_vertice)\n",
        "    # Do a breadth-first traversal\n",
        "    while quene:\n",
        "        v = quene.pop(0)\n",
        "        for n in graph[v]:\n",
        "            if n not in order:\n",
        "                distance[n] = distance[v] + 1\n",
        "                order.append(n)\n",
        "                quene.append(n)\n",
        "    # 1 Unreachable point, set the distance to -1\n",
        "    for k in distance.keys():\n",
        "        if k not in order:\n",
        "            distance[k] = -1\n",
        "    # return order, and distance\n",
        "    return order, distance\n",
        "\n",
        "start_vertice = 1\n",
        "order, distance = BFS(start_vertice, vertice, graph)\n",
        "for i in range(int(vertice)):\n",
        "    print(distance[i+1], end = \" \"+\"\\n\")"
      ]
    }
  ]
}